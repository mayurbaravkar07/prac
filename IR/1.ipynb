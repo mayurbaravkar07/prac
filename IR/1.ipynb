{
 "cells": [
  {
   "cell_type": "markdown",
   "id": "b12c0788",
   "metadata": {},
   "source": [
    "Assignment 1\n",
    "\n"
   ]
  },
  {
   "cell_type": "markdown",
   "id": "399b4411",
   "metadata": {},
   "source": [
    "Q. Write a program for pre-processing of a text document such as stop word removal,\n",
    "stemming."
   ]
  },
  {
   "cell_type": "code",
   "execution_count": 1,
   "id": "c3d4bb2e",
   "metadata": {},
   "outputs": [],
   "source": [
    "import nltk\n",
    "import inflect\n",
    "import string"
   ]
  },
  {
   "cell_type": "code",
   "execution_count": 2,
   "id": "ff5a950f",
   "metadata": {},
   "outputs": [
    {
     "name": "stdout",
     "output_type": "stream",
     "text": [
      "Collecting inflect\n",
      "  Obtaining dependency information for inflect from https://files.pythonhosted.org/packages/fb/c6/d9feb758be584f729424390af24687d3a4363d968164f94079f83cd536b4/inflect-7.0.0-py3-none-any.whl.metadata\n",
      "  Using cached inflect-7.0.0-py3-none-any.whl.metadata (21 kB)"
     ]
    },
    {
     "name": "stderr",
     "output_type": "stream",
     "text": [
      "DEPRECATION: pyodbc 4.0.0-unsupported has a non-standard version number. pip 23.3 will enforce this behaviour change. A possible replacement is to upgrade to a newer version of pyodbc or contact the author to suggest that they release a version with a conforming version number. Discussion can be found at https://github.com/pypa/pip/issues/12063\n",
      "\n",
      "[notice] A new release of pip is available: 23.2.1 -> 23.3.1\n",
      "[notice] To update, run: python.exe -m pip install --upgrade pip\n"
     ]
    },
    {
     "name": "stdout",
     "output_type": "stream",
     "text": [
      "\n",
      "Collecting pydantic>=1.9.1 (from inflect)\n",
      "  Obtaining dependency information for pydantic>=1.9.1 from https://files.pythonhosted.org/packages/73/66/0a72c9fcde42e5650c8d8d5c5c1873b9a3893018020c77ca8eb62708b923/pydantic-2.4.2-py3-none-any.whl.metadata\n",
      "  Using cached pydantic-2.4.2-py3-none-any.whl.metadata (158 kB)\n",
      "Requirement already satisfied: typing-extensions in c:\\users\\atharva\\anaconda3\\lib\\site-packages (from inflect) (3.10.0.2)\n",
      "Collecting annotated-types>=0.4.0 (from pydantic>=1.9.1->inflect)\n",
      "  Obtaining dependency information for annotated-types>=0.4.0 from https://files.pythonhosted.org/packages/28/78/d31230046e58c207284c6b2c4e8d96e6d3cb4e52354721b944d3e1ee4aa5/annotated_types-0.6.0-py3-none-any.whl.metadata\n",
      "  Using cached annotated_types-0.6.0-py3-none-any.whl.metadata (12 kB)\n",
      "Collecting pydantic-core==2.10.1 (from pydantic>=1.9.1->inflect)\n",
      "  Obtaining dependency information for pydantic-core==2.10.1 from https://files.pythonhosted.org/packages/9f/9a/321a73f6f1483b1ddd41fae7bb7cf9465461bad8fa132880b97ca462ee1a/pydantic_core-2.10.1-cp39-none-win_amd64.whl.metadata\n",
      "  Using cached pydantic_core-2.10.1-cp39-none-win_amd64.whl.metadata (6.6 kB)\n",
      "Collecting typing-extensions (from inflect)\n",
      "  Obtaining dependency information for typing-extensions from https://files.pythonhosted.org/packages/24/21/7d397a4b7934ff4028987914ac1044d3b7d52712f30e2ac7a2ae5bc86dd0/typing_extensions-4.8.0-py3-none-any.whl.metadata\n",
      "  Using cached typing_extensions-4.8.0-py3-none-any.whl.metadata (3.0 kB)\n",
      "Using cached inflect-7.0.0-py3-none-any.whl (34 kB)\n",
      "Using cached pydantic-2.4.2-py3-none-any.whl (395 kB)\n",
      "Downloading pydantic_core-2.10.1-cp39-none-win_amd64.whl (2.0 MB)\n",
      "   ---------------------------------------- 2.0/2.0 MB 161.3 kB/s eta 0:00:00\n",
      "Downloading typing_extensions-4.8.0-py3-none-any.whl (31 kB)\n",
      "Downloading annotated_types-0.6.0-py3-none-any.whl (12 kB)\n",
      "Installing collected packages: typing-extensions, annotated-types, pydantic-core, pydantic, inflect\n",
      "  Attempting uninstall: typing-extensions\n",
      "    Found existing installation: typing-extensions 3.10.0.2\n",
      "    Uninstalling typing-extensions-3.10.0.2:\n",
      "      Successfully uninstalled typing-extensions-3.10.0.2\n",
      "Successfully installed annotated-types-0.6.0 inflect-7.0.0 pydantic-2.4.2 pydantic-core-2.10.1 typing-extensions-4.8.0\n"
     ]
    }
   ],
   "source": [
    "!pip install inflect"
   ]
  },
  {
   "cell_type": "code",
   "execution_count": 2,
   "id": "8ba3fb26",
   "metadata": {},
   "outputs": [],
   "source": [
    "text = \"\"\"Hello, I am Miss. Siya Khan. I'm 22 years old. I live in\n",
    "Baramati, and the pin code for Baramati is 413102.\"\"\"\n"
   ]
  },
  {
   "cell_type": "markdown",
   "id": "18c6e8fa",
   "metadata": {},
   "source": [
    "## Tokenization"
   ]
  },
  {
   "cell_type": "code",
   "execution_count": 3,
   "id": "850733b6",
   "metadata": {},
   "outputs": [],
   "source": [
    "word_token=nltk.word_tokenize(text)"
   ]
  },
  {
   "cell_type": "code",
   "execution_count": 4,
   "id": "d20229ab",
   "metadata": {},
   "outputs": [
    {
     "data": {
      "text/plain": [
       "['Hello',\n",
       " ',',\n",
       " 'I',\n",
       " 'am',\n",
       " 'Miss',\n",
       " '.',\n",
       " 'Siya',\n",
       " 'Khan',\n",
       " '.',\n",
       " 'I',\n",
       " \"'m\",\n",
       " '22',\n",
       " 'years',\n",
       " 'old',\n",
       " '.',\n",
       " 'I',\n",
       " 'live',\n",
       " 'in',\n",
       " 'Baramati',\n",
       " ',',\n",
       " 'and',\n",
       " 'the',\n",
       " 'pin',\n",
       " 'code',\n",
       " 'for',\n",
       " 'Baramati',\n",
       " 'is',\n",
       " '413102',\n",
       " '.']"
      ]
     },
     "execution_count": 4,
     "metadata": {},
     "output_type": "execute_result"
    }
   ],
   "source": [
    "word_token"
   ]
  },
  {
   "cell_type": "code",
   "execution_count": 5,
   "id": "443e5886",
   "metadata": {},
   "outputs": [],
   "source": [
    "sent_token=nltk.sent_tokenize(text)"
   ]
  },
  {
   "cell_type": "code",
   "execution_count": 6,
   "id": "d04a3af0",
   "metadata": {},
   "outputs": [
    {
     "data": {
      "text/plain": [
       "['Hello, I am Miss.',\n",
       " 'Siya Khan.',\n",
       " \"I'm 22 years old.\",\n",
       " 'I live in\\nBaramati, and the pin code for Baramati is 413102.']"
      ]
     },
     "execution_count": 6,
     "metadata": {},
     "output_type": "execute_result"
    }
   ],
   "source": [
    "sent_token"
   ]
  },
  {
   "cell_type": "markdown",
   "id": "383c291f",
   "metadata": {},
   "source": [
    "## Stop Word Removal"
   ]
  },
  {
   "cell_type": "code",
   "execution_count": 7,
   "id": "da2c0a13",
   "metadata": {},
   "outputs": [
    {
     "name": "stderr",
     "output_type": "stream",
     "text": [
      "[nltk_data] Downloading package stopwords to\n",
      "[nltk_data]     C:\\Users\\Atharva\\AppData\\Roaming\\nltk_data...\n",
      "[nltk_data]   Package stopwords is already up-to-date!\n"
     ]
    }
   ],
   "source": [
    "nltk.download('stopwords')\n",
    "from nltk.corpus import stopwords\n",
    "stopword=stopwords.words(\"english\")"
   ]
  },
  {
   "cell_type": "code",
   "execution_count": 8,
   "id": "9005cafa",
   "metadata": {},
   "outputs": [
    {
     "data": {
      "text/plain": [
       "['i',\n",
       " 'me',\n",
       " 'my',\n",
       " 'myself',\n",
       " 'we',\n",
       " 'our',\n",
       " 'ours',\n",
       " 'ourselves',\n",
       " 'you',\n",
       " \"you're\",\n",
       " \"you've\",\n",
       " \"you'll\",\n",
       " \"you'd\",\n",
       " 'your',\n",
       " 'yours',\n",
       " 'yourself',\n",
       " 'yourselves',\n",
       " 'he',\n",
       " 'him',\n",
       " 'his',\n",
       " 'himself',\n",
       " 'she',\n",
       " \"she's\",\n",
       " 'her',\n",
       " 'hers',\n",
       " 'herself',\n",
       " 'it',\n",
       " \"it's\",\n",
       " 'its',\n",
       " 'itself',\n",
       " 'they',\n",
       " 'them',\n",
       " 'their',\n",
       " 'theirs',\n",
       " 'themselves',\n",
       " 'what',\n",
       " 'which',\n",
       " 'who',\n",
       " 'whom',\n",
       " 'this',\n",
       " 'that',\n",
       " \"that'll\",\n",
       " 'these',\n",
       " 'those',\n",
       " 'am',\n",
       " 'is',\n",
       " 'are',\n",
       " 'was',\n",
       " 'were',\n",
       " 'be',\n",
       " 'been',\n",
       " 'being',\n",
       " 'have',\n",
       " 'has',\n",
       " 'had',\n",
       " 'having',\n",
       " 'do',\n",
       " 'does',\n",
       " 'did',\n",
       " 'doing',\n",
       " 'a',\n",
       " 'an',\n",
       " 'the',\n",
       " 'and',\n",
       " 'but',\n",
       " 'if',\n",
       " 'or',\n",
       " 'because',\n",
       " 'as',\n",
       " 'until',\n",
       " 'while',\n",
       " 'of',\n",
       " 'at',\n",
       " 'by',\n",
       " 'for',\n",
       " 'with',\n",
       " 'about',\n",
       " 'against',\n",
       " 'between',\n",
       " 'into',\n",
       " 'through',\n",
       " 'during',\n",
       " 'before',\n",
       " 'after',\n",
       " 'above',\n",
       " 'below',\n",
       " 'to',\n",
       " 'from',\n",
       " 'up',\n",
       " 'down',\n",
       " 'in',\n",
       " 'out',\n",
       " 'on',\n",
       " 'off',\n",
       " 'over',\n",
       " 'under',\n",
       " 'again',\n",
       " 'further',\n",
       " 'then',\n",
       " 'once',\n",
       " 'here',\n",
       " 'there',\n",
       " 'when',\n",
       " 'where',\n",
       " 'why',\n",
       " 'how',\n",
       " 'all',\n",
       " 'any',\n",
       " 'both',\n",
       " 'each',\n",
       " 'few',\n",
       " 'more',\n",
       " 'most',\n",
       " 'other',\n",
       " 'some',\n",
       " 'such',\n",
       " 'no',\n",
       " 'nor',\n",
       " 'not',\n",
       " 'only',\n",
       " 'own',\n",
       " 'same',\n",
       " 'so',\n",
       " 'than',\n",
       " 'too',\n",
       " 'very',\n",
       " 's',\n",
       " 't',\n",
       " 'can',\n",
       " 'will',\n",
       " 'just',\n",
       " 'don',\n",
       " \"don't\",\n",
       " 'should',\n",
       " \"should've\",\n",
       " 'now',\n",
       " 'd',\n",
       " 'll',\n",
       " 'm',\n",
       " 'o',\n",
       " 're',\n",
       " 've',\n",
       " 'y',\n",
       " 'ain',\n",
       " 'aren',\n",
       " \"aren't\",\n",
       " 'couldn',\n",
       " \"couldn't\",\n",
       " 'didn',\n",
       " \"didn't\",\n",
       " 'doesn',\n",
       " \"doesn't\",\n",
       " 'hadn',\n",
       " \"hadn't\",\n",
       " 'hasn',\n",
       " \"hasn't\",\n",
       " 'haven',\n",
       " \"haven't\",\n",
       " 'isn',\n",
       " \"isn't\",\n",
       " 'ma',\n",
       " 'mightn',\n",
       " \"mightn't\",\n",
       " 'mustn',\n",
       " \"mustn't\",\n",
       " 'needn',\n",
       " \"needn't\",\n",
       " 'shan',\n",
       " \"shan't\",\n",
       " 'shouldn',\n",
       " \"shouldn't\",\n",
       " 'wasn',\n",
       " \"wasn't\",\n",
       " 'weren',\n",
       " \"weren't\",\n",
       " 'won',\n",
       " \"won't\",\n",
       " 'wouldn',\n",
       " \"wouldn't\"]"
      ]
     },
     "execution_count": 8,
     "metadata": {},
     "output_type": "execute_result"
    }
   ],
   "source": [
    "stopword"
   ]
  },
  {
   "cell_type": "code",
   "execution_count": 9,
   "id": "48c128fd",
   "metadata": {},
   "outputs": [
    {
     "name": "stdout",
     "output_type": "stream",
     "text": [
      "['Hello', ',', 'Miss', '.', 'Siya', 'Khan', '.', \"'m\", '22', 'years', 'old', '.', 'live', 'Baramati', ',', 'pin', 'code', 'Baramati', '413102', '.']\n"
     ]
    }
   ],
   "source": [
    "# from nltk.corpus import words\n",
    "\n",
    "# # Assuming 'word_token' is from a WordListCorpusReader\n",
    "# word_token = words.words()\n",
    "\n",
    "# # Assuming 'stopwords' is a list of stopwords\n",
    "# stopwords = [\"a\", \"an\", \"the\"]  # Add your stopwords here\n",
    "\n",
    "# Filter words not in the stopwords list\n",
    "removing_stopwords = [word for word in word_token if word.lower() not in stopword]\n",
    "print(removing_stopwords)"
   ]
  },
  {
   "cell_type": "code",
   "execution_count": 10,
   "id": "6732fe40",
   "metadata": {},
   "outputs": [
    {
     "data": {
      "text/plain": [
       "['Hello',\n",
       " ',',\n",
       " 'Miss',\n",
       " '.',\n",
       " 'Siya',\n",
       " 'Khan',\n",
       " '.',\n",
       " \"'m\",\n",
       " '22',\n",
       " 'years',\n",
       " 'old',\n",
       " '.',\n",
       " 'live',\n",
       " 'Baramati',\n",
       " ',',\n",
       " 'pin',\n",
       " 'code',\n",
       " 'Baramati',\n",
       " '413102',\n",
       " '.']"
      ]
     },
     "execution_count": 10,
     "metadata": {},
     "output_type": "execute_result"
    }
   ],
   "source": [
    "removing_stopwords"
   ]
  },
  {
   "cell_type": "markdown",
   "id": "7aae4b64",
   "metadata": {},
   "source": [
    "## Lemmatization & Stemming "
   ]
  },
  {
   "cell_type": "code",
   "execution_count": 13,
   "id": "e1e9d025",
   "metadata": {},
   "outputs": [
    {
     "name": "stderr",
     "output_type": "stream",
     "text": [
      "[nltk_data] Downloading package omw-1.4 to\n",
      "[nltk_data]     C:\\Users\\Atharva\\AppData\\Roaming\\nltk_data...\n",
      "[nltk_data]   Package omw-1.4 is already up-to-date!\n"
     ]
    }
   ],
   "source": [
    "nltk.download('omw-1.4')\n",
    "from nltk.stem import WordNetLemmatizer\n",
    "from nltk.stem import SnowballStemmer\n",
    "wordnet_lemmatizer=WordNetLemmatizer()\n",
    "lemmatized_word=[wordnet_lemmatizer.lemmatize(word) for word in removing_stopwords]"
   ]
  },
  {
   "cell_type": "code",
   "execution_count": 14,
   "id": "ae3beac0",
   "metadata": {},
   "outputs": [
    {
     "data": {
      "text/plain": [
       "['Hello',\n",
       " ',',\n",
       " 'Miss',\n",
       " '.',\n",
       " 'Siya',\n",
       " 'Khan',\n",
       " '.',\n",
       " \"'m\",\n",
       " '22',\n",
       " 'year',\n",
       " 'old',\n",
       " '.',\n",
       " 'live',\n",
       " 'Baramati',\n",
       " ',',\n",
       " 'pin',\n",
       " 'code',\n",
       " 'Baramati',\n",
       " '413102',\n",
       " '.']"
      ]
     },
     "execution_count": 14,
     "metadata": {},
     "output_type": "execute_result"
    }
   ],
   "source": [
    "lemmatized_word"
   ]
  },
  {
   "cell_type": "code",
   "execution_count": 15,
   "id": "30cf0978",
   "metadata": {},
   "outputs": [],
   "source": [
    "snowball_stemmer=SnowballStemmer('english')\n",
    "stemmed_word=[snowball_stemmer.stem(word) for word in removing_stopwords]"
   ]
  },
  {
   "cell_type": "code",
   "execution_count": 16,
   "id": "e90cc793",
   "metadata": {},
   "outputs": [
    {
     "data": {
      "text/plain": [
       "['hello',\n",
       " ',',\n",
       " 'miss',\n",
       " '.',\n",
       " 'siya',\n",
       " 'khan',\n",
       " '.',\n",
       " \"'m\",\n",
       " '22',\n",
       " 'year',\n",
       " 'old',\n",
       " '.',\n",
       " 'live',\n",
       " 'baramati',\n",
       " ',',\n",
       " 'pin',\n",
       " 'code',\n",
       " 'baramati',\n",
       " '413102',\n",
       " '.']"
      ]
     },
     "execution_count": 16,
     "metadata": {},
     "output_type": "execute_result"
    }
   ],
   "source": [
    "stemmed_word"
   ]
  },
  {
   "cell_type": "code",
   "execution_count": 17,
   "id": "b54e0228",
   "metadata": {},
   "outputs": [
    {
     "data": {
      "text/plain": [
       "\"Hello, I am Miss. Siya Khan. I'm 22 years old. I live in\\nBaramati, and the pin code for Baramati is 413102.\""
      ]
     },
     "execution_count": 17,
     "metadata": {},
     "output_type": "execute_result"
    }
   ],
   "source": [
    "text"
   ]
  },
  {
   "cell_type": "code",
   "execution_count": 18,
   "id": "6fcf666d",
   "metadata": {},
   "outputs": [],
   "source": [
    "lower_case = text.lower()"
   ]
  },
  {
   "cell_type": "code",
   "execution_count": 19,
   "id": "6f53f234",
   "metadata": {},
   "outputs": [
    {
     "data": {
      "text/plain": [
       "\"hello, i am miss. siya khan. i'm 22 years old. i live in\\nbaramati, and the pin code for baramati is 413102.\""
      ]
     },
     "execution_count": 19,
     "metadata": {},
     "output_type": "execute_result"
    }
   ],
   "source": [
    "lower_case\n"
   ]
  },
  {
   "cell_type": "code",
   "execution_count": 20,
   "id": "36f1d358",
   "metadata": {},
   "outputs": [],
   "source": [
    "## Number Removal"
   ]
  },
  {
   "cell_type": "code",
   "execution_count": 21,
   "id": "c224e268",
   "metadata": {},
   "outputs": [
    {
     "name": "stdout",
     "output_type": "stream",
     "text": [
      "Initial string :  Hello, I am Miss. Siya Khan. I'm 22 years old. I live in\n",
      "Baramati, and the pin code for Baramati is 413102.\n",
      "\n",
      "\n",
      "Final string :  Hello, I am Miss. Siya Khan. I'm  years old. I live in\n",
      "Baramati, and the pin code for Baramati is .\n"
     ]
    }
   ],
   "source": [
    "import re\n",
    "initial_string = text\n",
    "print(\"Initial string : \", initial_string)\n",
    "print(\"\\n\")\n",
    "final_string = re.sub(\"[0-9]\",\"\",text)\n",
    "print(\"Final string : \", final_string)"
   ]
  },
  {
   "cell_type": "markdown",
   "id": "e76a2d19",
   "metadata": {},
   "source": [
    "## Convert number into string\n"
   ]
  },
  {
   "cell_type": "code",
   "execution_count": 28,
   "id": "019fc22f",
   "metadata": {},
   "outputs": [],
   "source": [
    "import inflect\n",
    "def convert_numbers_to_words(match):\n",
    "    num = int(match.group())\n",
    "    p = inflect.engine()\n",
    "    return p.number_to_words(num)\n",
    "\n",
    "def convert_numbers(sentence):\n",
    "    \n",
    " # Use regular expression to find all digits in the sentence and rep result = re.sub(r'\\d+', convert_numbers_to_words, sentence)\n",
    "    result = re.sub(r'\\d+', convert_numbers_to_words, sentence)\n",
    "    return result\n",
    "\n",
    "sentence_with_numbers = text\n",
    "converted_sentence = convert_numbers(sentence_with_numbers)"
   ]
  },
  {
   "cell_type": "code",
   "execution_count": 29,
   "id": "d466fa90",
   "metadata": {},
   "outputs": [
    {
     "data": {
      "text/plain": [
       "\"Hello, I am Miss. Siya Khan. I'm twenty-two years old. I live in\\nBaramati, and the pin code for Baramati is four hundred and thirteen thousand, one hundred and two.\""
      ]
     },
     "execution_count": 29,
     "metadata": {},
     "output_type": "execute_result"
    }
   ],
   "source": [
    "converted_sentence"
   ]
  },
  {
   "cell_type": "markdown",
   "id": "d1f0a578",
   "metadata": {},
   "source": [
    "## Remove punctuation"
   ]
  },
  {
   "cell_type": "code",
   "execution_count": 31,
   "id": "cb6349c4",
   "metadata": {},
   "outputs": [],
   "source": [
    "# remove punctuation\n",
    "def remove_punctuation(text):\n",
    "    translator = str.maketrans('', '', string.punctuation)\n",
    "    return text.translate(translator)\n",
    "input_str = text"
   ]
  },
  {
   "cell_type": "code",
   "execution_count": 32,
   "id": "f439629a",
   "metadata": {},
   "outputs": [
    {
     "data": {
      "text/plain": [
       "'Hello I am Miss Siya Khan Im 22 years old I live in\\nBaramati and the pin code for Baramati is 413102'"
      ]
     },
     "execution_count": 32,
     "metadata": {},
     "output_type": "execute_result"
    }
   ],
   "source": [
    "remove_punctuation(input_str)"
   ]
  },
  {
   "cell_type": "markdown",
   "id": "1c5e2da9",
   "metadata": {},
   "source": [
    "## Remove whitespace"
   ]
  },
  {
   "cell_type": "code",
   "execution_count": 34,
   "id": "7a7cb4bb",
   "metadata": {},
   "outputs": [
    {
     "data": {
      "text/plain": [
       "'Hello I am Miss Siya Khan Im 22 years old I live in Baramati and the pin code for Baramati is 413102'"
      ]
     },
     "execution_count": 34,
     "metadata": {},
     "output_type": "execute_result"
    }
   ],
   "source": [
    "# remove whitespace from text\n",
    "def remove_whitespace(text):\n",
    "    return \" \".join(text.split())\n",
    "input_str = \"Hello I am Miss Siya Khan Im 22 years old I live in\\nBaramati and the pin code for Baramati is 413102\" \n",
    "remove_whitespace(input_str)"
   ]
  },
  {
   "cell_type": "code",
   "execution_count": null,
   "id": "fbfa7420",
   "metadata": {},
   "outputs": [],
   "source": []
  },
  {
   "cell_type": "code",
   "execution_count": null,
   "id": "a5a54958",
   "metadata": {},
   "outputs": [],
   "source": []
  }
 ],
 "metadata": {
  "kernelspec": {
   "display_name": "Python 3 (ipykernel)",
   "language": "python",
   "name": "python3"
  },
  "language_info": {
   "codemirror_mode": {
    "name": "ipython",
    "version": 3
   },
   "file_extension": ".py",
   "mimetype": "text/x-python",
   "name": "python",
   "nbconvert_exporter": "python",
   "pygments_lexer": "ipython3",
   "version": "3.9.7"
  }
 },
 "nbformat": 4,
 "nbformat_minor": 5
}
