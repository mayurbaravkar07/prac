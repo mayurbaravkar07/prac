{
 "cells": [
  {
   "cell_type": "code",
   "execution_count": 1,
   "id": "e57d61f0",
   "metadata": {},
   "outputs": [],
   "source": [
    "# Step 1: Read the content of the text file\n",
    "file_path = 'File.txt'\n"
   ]
  },
  {
   "cell_type": "code",
   "execution_count": 2,
   "id": "8067c93c",
   "metadata": {},
   "outputs": [
    {
     "name": "stdout",
     "output_type": "stream",
     "text": [
      "Number of lines in the text file: 3\n",
      "Line 1: This is a sample paragraph.\n",
      "Line 2: A paragraph contains multiple sentences.\n",
      "Line 3: Each sentence has multiple words.\n"
     ]
    }
   ],
   "source": [
    "with open(file_path, 'r') as file:\n",
    "    documents = file.readlines()\n",
    "\n",
    "# Print the number of lines in the text file\n",
    "num_lines = len(documents)\n",
    "print(\"Number of lines in the text file:\", num_lines)\n",
    "\n",
    "# Print each line in the text file\n",
    "for line_num, line in enumerate(documents, start=1):\n",
    "    print(f\"Line {line_num}: {line.strip()}\")  # Prints each line along with its line number\n"
   ]
  },
  {
   "cell_type": "code",
   "execution_count": 3,
   "id": "905c563c",
   "metadata": {},
   "outputs": [],
   "source": [
    "# Tokenize the documents\n",
    "tokens = [document.lower().split() for document in documents]\n"
   ]
  },
  {
   "cell_type": "code",
   "execution_count": 4,
   "id": "ed95f5d0",
   "metadata": {},
   "outputs": [
    {
     "data": {
      "text/plain": [
       "[['this', 'is', 'a', 'sample', 'paragraph.'],\n",
       " ['a', 'paragraph', 'contains', 'multiple', 'sentences.'],\n",
       " ['each', 'sentence', 'has', 'multiple', 'words.']]"
      ]
     },
     "execution_count": 4,
     "metadata": {},
     "output_type": "execute_result"
    }
   ],
   "source": [
    "tokens"
   ]
  },
  {
   "cell_type": "code",
   "execution_count": 5,
   "id": "ba210ea5",
   "metadata": {},
   "outputs": [],
   "source": [
    "# Combine the tokens into a list of unique terms\n",
    "terms = list(set([term for sublist in tokens for term in sublist]))\n"
   ]
  },
  {
   "cell_type": "code",
   "execution_count": 6,
   "id": "ba7c80ea",
   "metadata": {},
   "outputs": [
    {
     "data": {
      "text/plain": [
       "['this',\n",
       " 'a',\n",
       " 'multiple',\n",
       " 'sentence',\n",
       " 'paragraph',\n",
       " 'has',\n",
       " 'words.',\n",
       " 'sample',\n",
       " 'contains',\n",
       " 'sentences.',\n",
       " 'is',\n",
       " 'each',\n",
       " 'paragraph.']"
      ]
     },
     "execution_count": 6,
     "metadata": {},
     "output_type": "execute_result"
    }
   ],
   "source": [
    "terms"
   ]
  },
  {
   "cell_type": "code",
   "execution_count": 7,
   "id": "d175e3e7",
   "metadata": {},
   "outputs": [],
   "source": [
    "# Step 2: Build the inverted index\n",
    "# Create an empty dictionary to store the inverted index\n",
    "inverted_index = {}"
   ]
  },
  {
   "cell_type": "code",
   "execution_count": 8,
   "id": "13a61616",
   "metadata": {},
   "outputs": [],
   "source": [
    "# For each term, find the documents that contain it\n",
    "for term in terms:\n",
    "    term_documents = []\n",
    "    for i, token in enumerate(tokens):\n",
    "        if term in token:\n",
    "            term_documents.append(f\"Document {i + 1}\")\n",
    "    inverted_index[term] = term_documents"
   ]
  },
  {
   "cell_type": "code",
   "execution_count": 9,
   "id": "c72b9dfc",
   "metadata": {},
   "outputs": [
    {
     "name": "stdout",
     "output_type": "stream",
     "text": [
      "this -> Document 1\n",
      "a -> Document 1, Document 2\n",
      "multiple -> Document 2, Document 3\n",
      "sentence -> Document 3\n",
      "paragraph -> Document 2\n",
      "has -> Document 3\n",
      "words. -> Document 3\n",
      "sample -> Document 1\n",
      "contains -> Document 2\n",
      "sentences. -> Document 2\n",
      "is -> Document 1\n",
      "each -> Document 3\n",
      "paragraph. -> Document 1\n"
     ]
    }
   ],
   "source": [
    "# Step 3: Print the inverted index\n",
    "for term, term_documents in inverted_index.items():\n",
    "    print(term, \"->\", \", \".join(term_documents))"
   ]
  }
 ],
 "metadata": {
  "kernelspec": {
   "display_name": "Python 3 (ipykernel)",
   "language": "python",
   "name": "python3"
  },
  "language_info": {
   "codemirror_mode": {
    "name": "ipython",
    "version": 3
   },
   "file_extension": ".py",
   "mimetype": "text/x-python",
   "name": "python",
   "nbconvert_exporter": "python",
   "pygments_lexer": "ipython3",
   "version": "3.10.8"
  }
 },
 "nbformat": 4,
 "nbformat_minor": 5
}
